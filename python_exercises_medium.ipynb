{
 "cells": [
  {
   "cell_type": "markdown",
   "id": "58f3c807",
   "metadata": {},
   "source": [
    "# Python Exercises - Medium Level\n",
    "\n",
    "These exercises test intermediate Python concepts including:\n",
    "- Functions with multiple parameters and return values\n",
    "- List comprehensions\n",
    "- Dictionary operations\n",
    "- Advanced string manipulation\n",
    "- Nested loops and conditionals\n",
    "- Working with multiple data structures\n",
    "\n",
    "**Instructions:** Complete each exercise by writing Python code in the provided cells."
   ]
  },
  {
   "cell_type": "markdown",
   "id": "2eaf75cb",
   "metadata": {},
   "source": [
    "## Question 1: Function with Multiple Return Values\n",
    "\n",
    "Write a function called `analyze_numbers` that:\n",
    "- Takes a list of numbers as input\n",
    "- Returns a tuple containing: (sum, average, maximum, minimum)\n",
    "- Test with the list: [4, 7, 2, 9, 1, 6, 8, 3]"
   ]
  },
  {
   "cell_type": "code",
   "execution_count": null,
   "id": "beb2582b",
   "metadata": {},
   "outputs": [],
   "source": [
    "# Your code here"
   ]
  },
  {
   "cell_type": "markdown",
   "id": "32aa97ad",
   "metadata": {},
   "source": [
    "## Question 2: List Comprehension Challenge\n",
    "\n",
    "Given the list `numbers = [1, 2, 3, 4, 5, 6, 7, 8, 9, 10]`, create the following using list comprehensions:\n",
    "- A list of squares of all even numbers\n",
    "- A list of numbers divisible by 3\n",
    "- A list of strings saying \"[number] is odd\" for odd numbers only"
   ]
  },
  {
   "cell_type": "code",
   "execution_count": null,
   "id": "8745c171",
   "metadata": {},
   "outputs": [],
   "source": [
    "numbers = [1, 2, 3, 4, 5, 6, 7, 8, 9, 10]\n",
    "\n",
    "# Your code here"
   ]
  },
  {
   "cell_type": "markdown",
   "id": "e21948e9",
   "metadata": {},
   "source": [
    "## Question 3: Dictionary Operations\n",
    "\n",
    "Create a dictionary called `student_grades` with the following data:\n",
    "- \"Alice\": [85, 90, 78, 92]\n",
    "- \"Bob\": [76, 88, 81, 79]\n",
    "- \"Charlie\": [92, 95, 87, 91]\n",
    "\n",
    "Write a function that:\n",
    "- Calculates the average grade for each student\n",
    "- Returns a new dictionary with student names as keys and average grades as values\n",
    "- Finds and prints the student with the highest average"
   ]
  },
  {
   "cell_type": "code",
   "execution_count": null,
   "id": "b1f8c090",
   "metadata": {},
   "outputs": [],
   "source": [
    "# Your code here"
   ]
  },
  {
   "cell_type": "markdown",
   "id": "34bc3073",
   "metadata": {},
   "source": [
    "## Question 4: String Processing\n",
    "\n",
    "Write a function called `word_frequency` that:\n",
    "- Takes a sentence as input\n",
    "- Returns a dictionary with each word as a key and its frequency as the value\n",
    "- Words should be case-insensitive\n",
    "- Test with: \"The quick brown fox jumps over the lazy dog the dog was lazy\""
   ]
  },
  {
   "cell_type": "code",
   "execution_count": null,
   "id": "245662f1",
   "metadata": {},
   "outputs": [],
   "source": [
    "# Your code here"
   ]
  },
  {
   "cell_type": "markdown",
   "id": "fc1dcd37",
   "metadata": {},
   "source": [
    "## Question 5: Nested Loops and Pattern\n",
    "\n",
    "Write a function called `multiplication_table` that:\n",
    "- Takes a number `n` as input\n",
    "- Prints a multiplication table from 1 to n\n",
    "- Format the output nicely with proper alignment\n",
    "- Test with n = 5"
   ]
  },
  {
   "cell_type": "code",
   "execution_count": null,
   "id": "9305e600",
   "metadata": {},
   "outputs": [],
   "source": [
    "# Your code here"
   ]
  },
  {
   "cell_type": "markdown",
   "id": "b9ba0917",
   "metadata": {},
   "source": [
    "## Question 6: List Manipulation\n",
    "\n",
    "Write a function called `remove_duplicates` that:\n",
    "- Takes a list as input\n",
    "- Returns a new list with duplicates removed while preserving the original order\n",
    "- Don't use the set() function\n",
    "- Test with: [1, 2, 2, 3, 4, 4, 5, 1, 6]"
   ]
  },
  {
   "cell_type": "code",
   "execution_count": null,
   "id": "725abfbc",
   "metadata": {},
   "outputs": [],
   "source": [
    "# Your code here"
   ]
  },
  {
   "cell_type": "markdown",
   "id": "fabb21b6",
   "metadata": {},
   "source": [
    "## Question 7: Advanced String Formatting\n",
    "\n",
    "Given the following data about products:\n",
    "```python\n",
    "products = [\n",
    "    {\"name\": \"Laptop\", \"price\": 999.99, \"quantity\": 5},\n",
    "    {\"name\": \"Mouse\", \"price\": 25.50, \"quantity\": 20},\n",
    "    {\"name\": \"Keyboard\", \"price\": 75.00, \"quantity\": 15}\n",
    "]\n",
    "```\n",
    "\n",
    "Create a formatted report that shows:\n",
    "- Product name\n",
    "- Price\n",
    "- Quantity\n",
    "- Total value (price × quantity, right-aligned, 2 decimal places)"
   ]
  },
  {
   "cell_type": "code",
   "execution_count": null,
   "id": "cb37822a",
   "metadata": {},
   "outputs": [],
   "source": [
    "products = [\n",
    "    {\"name\": \"Laptop\", \"price\": 999.99, \"quantity\": 5},\n",
    "    {\"name\": \"Mouse\", \"price\": 25.50, \"quantity\": 20},\n",
    "    {\"name\": \"Keyboard\", \"price\": 75.00, \"quantity\": 15}\n",
    "]\n",
    "\n",
    "# Your code here"
   ]
  },
  {
   "cell_type": "markdown",
   "id": "f2458f23",
   "metadata": {},
   "source": [
    "## Question 8: Function as Parameter\n",
    "\n",
    "Write a function called `apply_operation` that:\n",
    "- Takes a list of numbers and a function as parameters\n",
    "- Applies the function to each number in the list\n",
    "- Returns a new list with the results\n",
    "\n",
    "Then create two simple functions:\n",
    "- `square(x)`: returns x squared\n",
    "- `cube(x)`: returns x cubed\n",
    "\n",
    "Test `apply_operation` with both functions using the list [1, 2, 3, 4, 5]"
   ]
  },
  {
   "cell_type": "code",
   "execution_count": null,
   "id": "e6694ca2",
   "metadata": {},
   "outputs": [],
   "source": [
    "# Your code here"
   ]
  },
  {
   "cell_type": "markdown",
   "id": "501a6617",
   "metadata": {},
   "source": [
    "## Question 9: Data Processing Challenge\n",
    "\n",
    "Given a list of dictionaries representing students:\n",
    "```python\n",
    "students = [\n",
    "    {\"name\": \"Alice\", \"age\": 20, \"major\": \"Computer Science\", \"gpa\": 3.8},\n",
    "    {\"name\": \"Bob\", \"age\": 19, \"major\": \"Mathematics\", \"gpa\": 3.6},\n",
    "    {\"name\": \"Charlie\", \"age\": 21, \"major\": \"Computer Science\", \"gpa\": 3.9},\n",
    "    {\"name\": \"Diana\", \"age\": 20, \"major\": \"Physics\", \"gpa\": 3.7}\n",
    "]\n",
    "```\n",
    "\n",
    "Write functions to:\n",
    "1. Find all students with GPA above 3.7\n",
    "2. Group students by major\n",
    "3. Find the average age of students in each major"
   ]
  },
  {
   "cell_type": "code",
   "execution_count": null,
   "id": "d30a94a9",
   "metadata": {},
   "outputs": [],
   "source": [
    "students = [\n",
    "    {\"name\": \"Alice\", \"age\": 20, \"major\": \"Computer Science\", \"gpa\": 3.8},\n",
    "    {\"name\": \"Bob\", \"age\": 19, \"major\": \"Mathematics\", \"gpa\": 3.6},\n",
    "    {\"name\": \"Charlie\", \"age\": 21, \"major\": \"Computer Science\", \"gpa\": 3.9},\n",
    "    {\"name\": \"Diana\", \"age\": 20, \"major\": \"Physics\", \"gpa\": 3.7}\n",
    "]\n",
    "\n",
    "# Your code here"
   ]
  },
  {
   "cell_type": "markdown",
   "id": "58f3fcde",
   "metadata": {},
   "source": [
    "## Question 10: Password Validator\n",
    "\n",
    "Write a function called `validate_password` that checks if a password meets these criteria:\n",
    "- At least 8 characters long\n",
    "- Contains at least one uppercase letter\n",
    "- Contains at least one lowercase letter\n",
    "- Contains at least one digit\n",
    "- Contains at least one special character (!@#$%^&*)\n",
    "\n",
    "The function should return a dictionary with:\n",
    "- \"valid\": True/False\n",
    "- \"messages\": List of specific requirements that failed\n",
    "\n",
    "Test with passwords: \"Password123!\", \"weak\", \"NoDigits!\""
   ]
  },
  {
   "cell_type": "code",
   "execution_count": null,
   "id": "27ef3283",
   "metadata": {},
   "outputs": [],
   "source": [
    "# Your code here"
   ]
  }
 ],
 "metadata": {
  "language_info": {
   "name": "python"
  }
 },
 "nbformat": 4,
 "nbformat_minor": 5
}
